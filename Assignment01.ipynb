{
 "cells": [
  {
   "cell_type": "code",
   "execution_count": null,
   "id": "72a8e6e9",
   "metadata": {},
   "outputs": [],
   "source": [
    "%pip show webdriver-manager\n",
    "%pip show selenium"
   ]
  },
  {
   "cell_type": "code",
   "execution_count": 1,
   "id": "d05a185a",
   "metadata": {},
   "outputs": [],
   "source": [
    "import csv\n",
    "import numpy as np\n",
    "import pandas as pd\n",
    "from selenium import webdriver\n",
    "from selenium.webdriver.common.by import By"
   ]
  },
  {
   "cell_type": "code",
   "execution_count": null,
   "id": "c7c0e24e",
   "metadata": {},
   "outputs": [],
   "source": [
    "driver = webdriver.Chrome() # opens up the web page\n",
    "driver.get(\"https://cases.shc.gov.pk/\") # sindh high court website"
   ]
  },
  {
   "cell_type": "code",
   "execution_count": null,
   "id": "2c41cb45",
   "metadata": {},
   "outputs": [],
   "source": []
  }
 ],
 "metadata": {
  "kernelspec": {
   "display_name": "Python 3",
   "language": "python",
   "name": "python3"
  },
  "language_info": {
   "codemirror_mode": {
    "name": "ipython",
    "version": 3
   },
   "file_extension": ".py",
   "mimetype": "text/x-python",
   "name": "python",
   "nbconvert_exporter": "python",
   "pygments_lexer": "ipython3",
   "version": "3.10.0"
  }
 },
 "nbformat": 4,
 "nbformat_minor": 5
}
